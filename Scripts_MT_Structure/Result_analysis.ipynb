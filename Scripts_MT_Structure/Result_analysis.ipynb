{
 "cells": [
  {
   "cell_type": "code",
   "execution_count": 1,
   "metadata": {},
   "outputs": [],
   "source": [
    "import numpy as np\n",
    "from os.path import join as pjoin"
   ]
  },
  {
   "cell_type": "code",
   "execution_count": 2,
   "metadata": {},
   "outputs": [],
   "source": [
    "file_path = \"/home/nienke/Documents/Research/SS_MTI/External_packages/Test_reflectivity/m0\""
   ]
  },
  {
   "cell_type": "markdown",
   "metadata": {},
   "source": [
    "# Open the misfit values"
   ]
  },
  {
   "cell_type": "code",
   "execution_count": 3,
   "metadata": {},
   "outputs": [],
   "source": [
    "xis = np.load(pjoin(file_path,\"dxi_dms.npy\"))"
   ]
  },
  {
   "cell_type": "code",
   "execution_count": 4,
   "metadata": {},
   "outputs": [
    {
     "data": {
      "text/plain": [
       "array([[ 3.66611630e-08],\n",
       "       [ 6.02327077e-09],\n",
       "       [ 2.92573077e-08],\n",
       "       [ 0.00000000e+00],\n",
       "       [ 1.08286713e-09],\n",
       "       [-3.23183258e-08],\n",
       "       [ 1.18443211e-07],\n",
       "       [ 1.18478738e-07],\n",
       "       [ 1.67344112e-06],\n",
       "       [ 1.67390652e-06]])"
      ]
     },
     "execution_count": 4,
     "metadata": {},
     "output_type": "execute_result"
    }
   ],
   "source": [
    "xis"
   ]
  },
  {
   "cell_type": "code",
   "execution_count": 5,
   "metadata": {},
   "outputs": [],
   "source": [
    "ms = np.load(pjoin(file_path,\"m0s.npy\"))"
   ]
  },
  {
   "cell_type": "code",
   "execution_count": 6,
   "metadata": {},
   "outputs": [
    {
     "data": {
      "text/plain": [
       "array([[ 1.00000000e+00,  9.99999963e-01],\n",
       "       [ 0.00000000e+00, -6.02327077e-09],\n",
       "       [ 0.00000000e+00, -2.92573077e-08],\n",
       "       [ 0.00000000e+00,  0.00000000e+00],\n",
       "       [ 0.00000000e+00, -1.08286713e-09],\n",
       "       [ 0.00000000e+00,  3.23183258e-08],\n",
       "       [ 3.71447700e+00,  3.71447688e+00],\n",
       "       [ 3.71447700e+00,  3.71447688e+00],\n",
       "       [ 1.75719800e+00,  1.75719633e+00],\n",
       "       [ 1.75719800e+00,  1.75719633e+00]])"
      ]
     },
     "execution_count": 6,
     "metadata": {},
     "output_type": "execute_result"
    }
   ],
   "source": [
    "ms"
   ]
  },
  {
   "cell_type": "code",
   "execution_count": 7,
   "metadata": {},
   "outputs": [],
   "source": [
    "xis = np.load(pjoin(file_path,\"xis.npy\"))"
   ]
  },
  {
   "cell_type": "code",
   "execution_count": 8,
   "metadata": {},
   "outputs": [
    {
     "data": {
      "text/plain": [
       "array([8.94650114e-08])"
      ]
     },
     "execution_count": 8,
     "metadata": {},
     "output_type": "execute_result"
    }
   ],
   "source": [
    "xis"
   ]
  },
  {
   "cell_type": "code",
   "execution_count": null,
   "metadata": {},
   "outputs": [],
   "source": []
  }
 ],
 "metadata": {
  "kernelspec": {
   "display_name": "Python 3",
   "language": "python",
   "name": "python3"
  },
  "language_info": {
   "codemirror_mode": {
    "name": "ipython",
    "version": 3
   },
   "file_extension": ".py",
   "mimetype": "text/x-python",
   "name": "python",
   "nbconvert_exporter": "python",
   "pygments_lexer": "ipython3",
   "version": "3.8.3"
  }
 },
 "nbformat": 4,
 "nbformat_minor": 4
}
