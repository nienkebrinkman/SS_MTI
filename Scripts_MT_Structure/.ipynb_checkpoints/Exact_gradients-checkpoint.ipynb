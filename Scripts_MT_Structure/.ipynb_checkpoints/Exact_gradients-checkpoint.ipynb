{
 "cells": [
  {
   "cell_type": "code",
   "execution_count": 2,
   "metadata": {},
   "outputs": [],
   "source": [
    "from os.path import exists, join, isfile\n",
    "from os import listdir, makedirs\n",
    "from obspy.geodetics import kilometer2degrees\n",
    "import numpy as np\n",
    "from obspy.taup import TauPyModel\n",
    "import matplotlib.pyplot as plt\n",
    "\n",
    "import threading\n",
    "import subprocess\n",
    "\n",
    "import Create_Vmod\n",
    "from SS_MTI import Gradient, PhaseTracer"
   ]
  },
  {
   "cell_type": "markdown",
   "metadata": {},
   "source": [
    "# Fixed parameters (initial model)"
   ]
  },
  {
   "cell_type": "code",
   "execution_count": 3,
   "metadata": {},
   "outputs": [
    {
     "name": "stderr",
     "output_type": "stream",
     "text": [
      "/home/nienke/Documents/Research/SS_MTI/Scripts_MT_Structure/Create_Vmod.py:298: RuntimeWarning: divide by zero encountered in double_scalars\n",
      "  qp = 1 / (L * (1 / qmu) + (1 - L) * (1 / qka))\n",
      "/home/nienke/Documents/Research/SS_MTI/Scripts_MT_Structure/Create_Vmod.py:298: RuntimeWarning: invalid value encountered in double_scalars\n",
      "  qp = 1 / (L * (1 / qmu) + (1 - L) * (1 / qka))\n"
     ]
    }
   ],
   "source": [
    "bin_filepath = \"/home/nienke/Documents/Research/SS_MTI/External_packages/reflectivity_Mars/SRC/test/crfl_sac\"\n",
    "save_path_OG = \"/home/nienke/Documents/Research/SS_MTI/External_packages/Test_reflectivity/Exact_Gradient\"\n",
    "if not exists(join(save_path_OG, \"start_v\")):\n",
    "    makedirs(join(save_path_OG, \"start_v\"))\n",
    "f_start = join(save_path_OG, \"start_v\")\n",
    "\n",
    "## Fixed parameters:\n",
    "src_depth = 20.0\n",
    "epi_in_km = 1774.7380\n",
    "epi = kilometer2degrees(epi_in_km, radius=3389.5)\n",
    "baz = 0.0\n",
    "\n",
    "dt = 0.025\n",
    "\n",
    "phases = [\"P\", \"S\", \"P\", \"S\", \"S\"]\n",
    "comps = [\"Z\", \"T\", \"R\", \"Z\", \"R\"]\n",
    "t_pres = [1, 1, 1, 1, 1]\n",
    "t_posts = [30, 30, 30, 30, 30]\n",
    "ylims = [1e-9, 1e-9, 2e-9, 3e-9, 2e-9]\n",
    "\n",
    "fmin = 0.2\n",
    "fmax = 0.6\n",
    "zerophase = False\n",
    "\n",
    "\n",
    "## Start parameters:\n",
    "bm_start_model = \"/home/nienke/Documents/Research/Data/MTI/MT_vs_STR/bm_models/TAYAK.bm\"\n",
    "m_rr = 0.2\n",
    "m_tt = 0.3\n",
    "m_pp = -0.4\n",
    "m_rt = -0.2\n",
    "m_rp = 0.3\n",
    "m_tp = 0.8\n",
    "focal_mech = [m_rr, m_tt, m_pp, m_rt, m_rp, m_tp]\n",
    "Moho_d = 77.0\n",
    "\n",
    "Create_Vmod.create_dat_file(\n",
    "    src_depth, epi_in_km, baz, focal_mech, dt, f_start, bm_start_model,\n",
    ")\n",
    "\n",
    "m0 = np.hstack((focal_mech, Moho_d))\n",
    "sigmas = np.ones(len(phases)) * 1e-10"
   ]
  },
  {
   "cell_type": "markdown",
   "metadata": {},
   "source": [
    "# Observed data"
   ]
  },
  {
   "cell_type": "code",
   "execution_count": 51,
   "metadata": {},
   "outputs": [],
   "source": [
    "path_observed = (\n",
    "    \"/home/nienke/Documents/Research/SS_MTI/External_packages/Test_reflectivity/obs_2/\"\n",
    ")\n",
    "npz_file = \"/home/nienke/Documents/Research/Data/npz_files/TAYAK.npz\"\n",
    "st_obs = Gradient.read_refl_mseeds(path=path_observed)\n",
    "Taup = TauPyModel(npz_file)\n",
    "obs_tts = [PhaseTracer.get_traveltime(Taup, phase, src_depth, epi) for phase in phases]\n",
    "st_obs_w, st_obs_full, s_obs = Gradient.window(\n",
    "    st_obs, phases, comps, obs_tts, t_pres, t_posts, fmin, fmax, zerophase,\n",
    ")"
   ]
  },
  {
   "cell_type": "markdown",
   "metadata": {},
   "source": [
    "# Exact gradient calculation"
   ]
  },
  {
   "cell_type": "code",
   "execution_count": 5,
   "metadata": {},
   "outputs": [],
   "source": [
    "def Exact_gradient(\n",
    "    thread_folder: str,\n",
    "    thread_nr: int,\n",
    "    dat_folder: str,\n",
    "    unit_v: np.array,\n",
    "    bin_filepath: str,\n",
    "):\n",
    "    print(thread_nr)\n",
    "    print(unit_v)\n",
    "    \"\"\" Thread worker function \"\"\"\n",
    "\n",
    "    \"\"\" Copy .dat file into new folder \"\"\"\n",
    "    dat_filepath = join(dat_folder, \"crfl.dat\")\n",
    "    subprocess.call(f\"scp {dat_filepath} .\", shell=True, cwd=thread_folder)\n",
    "    \"\"\" Copy binary file into new folder \"\"\"\n",
    "    subprocess.call(f\"scp {bin_filepath} .\", shell=True, cwd=thread_folder)\n",
    "\n",
    "    \"\"\" Plug unit vector into .dat file \"\"\"\n",
    "    Create_Vmod.update_dat_file(\n",
    "        dat_folder=thread_folder,\n",
    "        m=unit_v,\n",
    "        vpvs=False,\n",
    "        depth=False,\n",
    "        produce_tvel=True,\n",
    "        tvel_name=\"exact\",\n",
    "    )\n",
    "\n",
    "    \"\"\" Run the reflectivity code \"\"\"\n",
    "    print(f\"Running exact gradient on thread: {thread_nr}\\n\")\n",
    "    #     subprocess.call(\"./crfl_sac\", shell=True, cwd=thread_folder)\n",
    "    print(f\"thread: {thread_nr} is done\\n\")\n",
    "    np.save(join(thread_folder, \"m.npy\"), unit_v)\n",
    "\n",
    "\n",
    "def Get_G(\n",
    "    save_path: str,\n",
    "    prior_dat_folder: str,\n",
    "    bin_file_path: str,\n",
    "    phases: [str],\n",
    "    comps: [str],\n",
    "    t_pres: [float],\n",
    "    t_posts: [float],\n",
    "    fmin:float,\n",
    "    fmax:float,\n",
    "    zerophase:bool\n",
    "):\n",
    "\n",
    "    unit_vs = np.array(\n",
    "        (\n",
    "            [1, 0, 0, 0, 0, 0],\n",
    "            [0, 1, 0, 0, 0, 0],\n",
    "            [0, 0, 1, 0, 0, 0],\n",
    "            [0, 0, 0, 1, 0, 0],\n",
    "            [0, 0, 0, 0, 1, 0],\n",
    "            [0, 0, 0, 0, 0, 1],\n",
    "        )\n",
    "    )\n",
    "    G_approx = []\n",
    "\n",
    "    threads = []\n",
    "    dat_folder = prior_dat_folder  # f_start\n",
    "    \"\"\" Creating the exact seismograms: \"\"\"\n",
    "    for i in range(6):\n",
    "        \"\"\" Create folder for each thread \"\"\"\n",
    "        thread_folder = join(save_path, f\"Exact_{i}\")\n",
    "        if not exists(thread_folder):\n",
    "            makedirs(thread_folder)\n",
    "        \"\"\" Run forward model with each unit vector \"\"\"\n",
    "        exact_st = [\n",
    "            f\n",
    "            for f in listdir(thread_folder)\n",
    "            if f.startswith(\"st00\")\n",
    "            if isfile(join(thread_folder, f))\n",
    "        ]\n",
    "        if not exact_st:\n",
    "            t = threading.Thread(\n",
    "                target=Exact_gradient,\n",
    "                args=[thread_folder, i, dat_folder, unit_vs[:, i], bin_filepath],\n",
    "            )\n",
    "            threads.append(t)\n",
    "            t.start()\n",
    "    if not exact_st:\n",
    "        for thread in threads:\n",
    "            thread.join()\n",
    "\n",
    "    \"\"\" Reading in seismograms and substituting into approximate Green's functions: \"\"\"\n",
    "    for i in range(6):\n",
    "        thread_folder = join(save_path, f\"Exact_{i}\")\n",
    "        st = Gradient.read_refl_mseeds(path=thread_folder, stack=False)\n",
    "\n",
    "        \"\"\" Window the data \"\"\"\n",
    "        npz_name = [\n",
    "            f\n",
    "            for f in listdir(thread_folder)\n",
    "            if f.endswith(\".npz\")\n",
    "            if isfile(join(thread_folder, f))\n",
    "        ]\n",
    "        if npz_name:\n",
    "            npz_file = join(thread_folder, npz_name[0],)\n",
    "            dat_file = join(thread_folder)\n",
    "\n",
    "            Taup = TauPyModel(npz_file)\n",
    "            depth = Create_Vmod.read_depth_from_dat(dat_file)\n",
    "            epi = Create_Vmod.read_epi_from_dat(dat_file)\n",
    "            syn_tts = []\n",
    "            for j, phase in enumerate(phases):\n",
    "                syn_tts.append(PhaseTracer.get_traveltime(Taup, phase, depth, epi))\n",
    "        else:\n",
    "            syn_tts = Gradient.get_tt_from_dat_file(phases, thread_folder, \"exact\")\n",
    "        st_syn_w, st_syn_full, s_syn = Gradient.window(\n",
    "            st, phases, comps, syn_tts, t_pres, t_posts, fmin, fmax, zerophase,\n",
    "        )\n",
    "\n",
    "        if i == 0:\n",
    "            G_approx = np.zeros((len(s_syn), 6))\n",
    "            G_approx[:, i] = s_syn\n",
    "        else:\n",
    "            G_approx[:, i] = s_syn\n",
    "    return G_approx"
   ]
  },
  {
   "cell_type": "markdown",
   "metadata": {},
   "source": [
    "# Get misfit w.r.t. seismogram\n",
    "Seismogram is computed using m0 (so initial guess)"
   ]
  },
  {
   "cell_type": "code",
   "execution_count": null,
   "metadata": {},
   "outputs": [],
   "source": [
    "\"\"\" Forward run with the actual model parameters \"\"\"\n",
    "save_folder = join(save_path_OG, \"Update_1\")\n",
    "if not exists(save_folder):\n",
    "    makedirs(save_folder)\n",
    "\n",
    "st_file = [\n",
    "    f\n",
    "    for f in listdir(join(save_folder, \"It_0\"))\n",
    "    if f.startswith(\"st00\")\n",
    "    if isfile(join(save_folder, \"It_0\", f))\n",
    "]\n",
    "if st_file:\n",
    "    st_syn = Gradient.read_refl_mseeds(path=st_file, stack=False)\n",
    "else:\n",
    "    src_str = Gradient.SRC_STR(\n",
    "        binary_file_path=bin_filepath,\n",
    "        prior_dat_filepath=join(f_start, \"crfl.dat\"),\n",
    "        save_folder=save_folder,\n",
    "        phases=phases,\n",
    "        components=comps,\n",
    "        t_pres=t_pres,\n",
    "        t_posts=t_posts,\n",
    "        vpvs=False,\n",
    "        depth=True,\n",
    "        dt=dt,\n",
    "        sigmas=sigmas,\n",
    "        tstars=None,\n",
    "        fmin=fmin,\n",
    "        fmax=fmax,\n",
    "        zerophase=False,\n",
    "        start_it=0,\n",
    "    )\n",
    "\n",
    "    st_syn = src_str.forward(m0)\n",
    "\n",
    "\"\"\" Window the data \"\"\"\n",
    "npz_name = [\n",
    "    f\n",
    "    for f in listdir(join(save_folder, \"It_0\"))\n",
    "    if f.endswith(\".npz\")\n",
    "    if isfile(join(save_folder, \"It_0\", f))\n",
    "]\n",
    "if npz_name:\n",
    "    npz_file = join(save_folder, \"It_0\", npz_name[0],)\n",
    "    dat_file = join(save_folder, \"It_0\")\n",
    "\n",
    "    Taup = TauPyModel(npz_file)\n",
    "    depth = Create_Vmod.read_depth_from_dat(dat_file)\n",
    "    epi = Create_Vmod.read_epi_from_dat(dat_file)\n",
    "    syn_tts = []\n",
    "    for i, phase in enumerate(phases):\n",
    "        syn_tts.append(PhaseTracer.get_traveltime(Taup, phase, depth, epi))\n",
    "else:\n",
    "    syn_tts = Gradient.get_tt_from_dat_file(phases, join(save_folder, \"It_0\"), m0[-1])\n",
    "st_syn_w, st_syn_full, s_syn = Gradient.window(\n",
    "    st_syn, phases, comps, syn_tts, t_pres, t_posts, fmin, fmax, zerophase,\n",
    ")"
   ]
  },
  {
   "cell_type": "markdown",
   "metadata": {},
   "source": [
    "# Gradient of seismogram w.r.t. structural update"
   ]
  },
  {
   "cell_type": "code",
   "execution_count": null,
   "metadata": {},
   "outputs": [],
   "source": [
    "\"\"\" We have the seismogram of m0 (from previous cell)\"\"\"\n",
    "s0 = s_syn\n",
    "\n",
    "\"\"\" Then we need S1 and epsilon \"\"\"\n",
    "epsilon = 0.001\n",
    "m1 = m0\n",
    "m1[-1] = m1[-1] + epsilon * m1[-1]\n",
    "\n",
    "save_folder = join(save_path_OG, \"Depth_update\")\n",
    "if not exists(save_folder):\n",
    "    makedirs(save_folder)\n",
    "\n",
    "st_file = [\n",
    "    f\n",
    "    for f in listdir(join(save_folder, \"It_0\"))\n",
    "    if f.startswith(\"st00\")\n",
    "    if isfile(join(save_folder, \"It_0\", f))\n",
    "]\n",
    "if st_file:\n",
    "    st_syn = Gradient.read_refl_mseeds(path=st_file, stack=False)\n",
    "else:\n",
    "    src_str = Gradient.SRC_STR(\n",
    "        binary_file_path=bin_filepath,\n",
    "        prior_dat_filepath=join(f_start, \"crfl.dat\"),\n",
    "        save_folder=save_folder,\n",
    "        phases=phases,\n",
    "        components=comps,\n",
    "        t_pres=t_pres,\n",
    "        t_posts=t_posts,\n",
    "        vpvs=False,\n",
    "        depth=True,\n",
    "        dt=dt,\n",
    "        sigmas=sigmas,\n",
    "        tstars=None,\n",
    "        fmin=fmin,\n",
    "        fmax=fmax,\n",
    "        zerophase=False,\n",
    "        start_it=0,\n",
    "    )\n",
    "\n",
    "    st_syn = src_str.forward(m1)\n",
    "\n",
    "\"\"\" Window the data \"\"\"\n",
    "npz_name = [\n",
    "    f\n",
    "    for f in listdir(join(save_folder, \"It_0\"))\n",
    "    if f.endswith(\".npz\")\n",
    "    if isfile(join(save_folder, \"It_0\", f))\n",
    "]\n",
    "if npz_name:\n",
    "    npz_file = join(save_folder, \"It_0\", npz_name[0],)\n",
    "    dat_file = join(save_folder, \"It_0\")\n",
    "\n",
    "    Taup = TauPyModel(npz_file)\n",
    "    depth = Create_Vmod.read_depth_from_dat(dat_file)\n",
    "    epi = Create_Vmod.read_epi_from_dat(dat_file)\n",
    "    syn_tts = []\n",
    "    for i, phase in enumerate(phases):\n",
    "        syn_tts.append(PhaseTracer.get_traveltime(Taup, phase, depth, epi))\n",
    "else:\n",
    "    syn_tts = Gradient.get_tt_from_dat_file(phases, join(save_folder, \"It_0\"), m0[-1])\n",
    "st_syn_w1, st_syn_full1, s1 = Gradient.window(\n",
    "    st_syn, phases, comps, syn_tts, t_pres, t_posts, fmin, fmax, zerophase,\n",
    ")"
   ]
  },
  {
   "cell_type": "code",
   "execution_count": null,
   "metadata": {},
   "outputs": [],
   "source": [
    "\"\"\" Get the approximate gradient of the depth \"\"\"\n",
    "G_depth = np.expand_dims((s1 - s0) / epsilon, axis=1)"
   ]
  },
  {
   "cell_type": "code",
   "execution_count": null,
   "metadata": {},
   "outputs": [],
   "source": [
    "G_depth.shape"
   ]
  },
  {
   "cell_type": "markdown",
   "metadata": {},
   "source": [
    "# Add depth gradient to exact gradient"
   ]
  },
  {
   "cell_type": "code",
   "execution_count": null,
   "metadata": {},
   "outputs": [],
   "source": [
    "G_total = np.hstack((G_approx, G_depth))"
   ]
  },
  {
   "cell_type": "markdown",
   "metadata": {},
   "source": [
    "# Calculate derivative of misfit w.r.t. seismogram (using L2)"
   ]
  },
  {
   "cell_type": "code",
   "execution_count": null,
   "metadata": {},
   "outputs": [],
   "source": [
    "# Considering L2:\n",
    "dxi_ds = np.expand_dims(-(s_obs - s_syn) / (np.mean(sigmas) ** 2), axis=0)"
   ]
  },
  {
   "cell_type": "code",
   "execution_count": null,
   "metadata": {},
   "outputs": [],
   "source": [
    "dxi_ds.shape\n",
    "\n",
    "G_total.shape"
   ]
  },
  {
   "cell_type": "markdown",
   "metadata": {},
   "source": [
    "# Determine the gradient of the misfit w.r.t. model params"
   ]
  },
  {
   "cell_type": "code",
   "execution_count": null,
   "metadata": {},
   "outputs": [],
   "source": [
    "dxi_dm = dxi_ds @ G_total"
   ]
  },
  {
   "cell_type": "code",
   "execution_count": null,
   "metadata": {},
   "outputs": [],
   "source": [
    "dxi_dm"
   ]
  },
  {
   "cell_type": "code",
   "execution_count": null,
   "metadata": {},
   "outputs": [],
   "source": [
    "plt.semilogy(dxi_dm[0, :])"
   ]
  },
  {
   "cell_type": "markdown",
   "metadata": {},
   "source": [
    "# Two step inversion:\n",
    "## 1. Invert the moment tensor using the exact gradients"
   ]
  },
  {
   "cell_type": "code",
   "execution_count": 7,
   "metadata": {},
   "outputs": [],
   "source": [
    "\"\"\" 1.1 Get the Green's function for the moment tensor:\"\"\"\n",
    "save_path_OG = \"/home/nienke/Documents/Research/SS_MTI/External_packages/Test_reflectivity/Exact_Gradient\"\n",
    "G_approx = Get_G(\n",
    "    save_path=save_path_OG,\n",
    "    prior_dat_folder=f_start,\n",
    "    bin_file_path=bin_filepath,\n",
    "    phases=phases,\n",
    "    comps=comps,\n",
    "    t_pres=t_pres,\n",
    "    t_posts=t_posts,\n",
    "    fmin=fmin,\n",
    "    fmax=fmax,\n",
    "    zerophase=False\n",
    ")"
   ]
  },
  {
   "cell_type": "code",
   "execution_count": 23,
   "metadata": {},
   "outputs": [
    {
     "data": {
      "text/plain": [
       "(5, 5)"
      ]
     },
     "execution_count": 23,
     "metadata": {},
     "output_type": "execute_result"
    }
   ],
   "source": [
    "\n",
    "np.diag(1/(sigmas**2)).shape"
   ]
  },
  {
   "cell_type": "code",
   "execution_count": 35,
   "metadata": {},
   "outputs": [],
   "source": [
    "Wd = np.diag(np.ones(G_approx.shape[0])) * (1/sigmas[0]**2)"
   ]
  },
  {
   "cell_type": "code",
   "execution_count": 52,
   "metadata": {},
   "outputs": [],
   "source": [
    "s_obs_dims = np.expand_dims(s_obs,axis = 1)"
   ]
  },
  {
   "cell_type": "code",
   "execution_count": 54,
   "metadata": {},
   "outputs": [
    {
     "ename": "LinAlgError",
     "evalue": "Singular matrix",
     "output_type": "error",
     "traceback": [
      "\u001b[0;31m------------------------------------------------------------------------\u001b[0m",
      "\u001b[0;31mLinAlgError\u001b[0m                            Traceback (most recent call last)",
      "\u001b[0;32m<ipython-input-54-78531a405cf8>\u001b[0m in \u001b[0;36m<module>\u001b[0;34m\u001b[0m\n\u001b[1;32m      3\u001b[0m \u001b[0;34m\u001b[0m\u001b[0m\n\u001b[1;32m      4\u001b[0m \u001b[0;34m\u001b[0m\u001b[0m\n\u001b[0;32m----> 5\u001b[0;31m \u001b[0mM\u001b[0m \u001b[0;34m=\u001b[0m \u001b[0mnp\u001b[0m\u001b[0;34m.\u001b[0m\u001b[0mlinalg\u001b[0m\u001b[0;34m.\u001b[0m\u001b[0msolve\u001b[0m\u001b[0;34m(\u001b[0m\u001b[0mA\u001b[0m\u001b[0;34m,\u001b[0m \u001b[0mB\u001b[0m\u001b[0;34m)\u001b[0m\u001b[0;34m\u001b[0m\u001b[0;34m\u001b[0m\u001b[0m\n\u001b[0m\u001b[1;32m      6\u001b[0m \u001b[0;31m# M = np.linalg.lstsq(A, B)[0]\u001b[0m\u001b[0;34m\u001b[0m\u001b[0;34m\u001b[0m\u001b[0;34m\u001b[0m\u001b[0m\n",
      "\u001b[0;32m<__array_function__ internals>\u001b[0m in \u001b[0;36msolve\u001b[0;34m(*args, **kwargs)\u001b[0m\n",
      "\u001b[0;32m~/Applications/anaconda3/envs/BBB/lib/python3.8/site-packages/numpy/linalg/linalg.py\u001b[0m in \u001b[0;36msolve\u001b[0;34m(a, b)\u001b[0m\n\u001b[1;32m    397\u001b[0m     \u001b[0msignature\u001b[0m \u001b[0;34m=\u001b[0m \u001b[0;34m'DD->D'\u001b[0m \u001b[0;32mif\u001b[0m \u001b[0misComplexType\u001b[0m\u001b[0;34m(\u001b[0m\u001b[0mt\u001b[0m\u001b[0;34m)\u001b[0m \u001b[0;32melse\u001b[0m \u001b[0;34m'dd->d'\u001b[0m\u001b[0;34m\u001b[0m\u001b[0;34m\u001b[0m\u001b[0m\n\u001b[1;32m    398\u001b[0m     \u001b[0mextobj\u001b[0m \u001b[0;34m=\u001b[0m \u001b[0mget_linalg_error_extobj\u001b[0m\u001b[0;34m(\u001b[0m\u001b[0m_raise_linalgerror_singular\u001b[0m\u001b[0;34m)\u001b[0m\u001b[0;34m\u001b[0m\u001b[0;34m\u001b[0m\u001b[0m\n\u001b[0;32m--> 399\u001b[0;31m     \u001b[0mr\u001b[0m \u001b[0;34m=\u001b[0m \u001b[0mgufunc\u001b[0m\u001b[0;34m(\u001b[0m\u001b[0ma\u001b[0m\u001b[0;34m,\u001b[0m \u001b[0mb\u001b[0m\u001b[0;34m,\u001b[0m \u001b[0msignature\u001b[0m\u001b[0;34m=\u001b[0m\u001b[0msignature\u001b[0m\u001b[0;34m,\u001b[0m \u001b[0mextobj\u001b[0m\u001b[0;34m=\u001b[0m\u001b[0mextobj\u001b[0m\u001b[0;34m)\u001b[0m\u001b[0;34m\u001b[0m\u001b[0;34m\u001b[0m\u001b[0m\n\u001b[0m\u001b[1;32m    400\u001b[0m \u001b[0;34m\u001b[0m\u001b[0m\n\u001b[1;32m    401\u001b[0m     \u001b[0;32mreturn\u001b[0m \u001b[0mwrap\u001b[0m\u001b[0;34m(\u001b[0m\u001b[0mr\u001b[0m\u001b[0;34m.\u001b[0m\u001b[0mastype\u001b[0m\u001b[0;34m(\u001b[0m\u001b[0mresult_t\u001b[0m\u001b[0;34m,\u001b[0m \u001b[0mcopy\u001b[0m\u001b[0;34m=\u001b[0m\u001b[0;32mFalse\u001b[0m\u001b[0;34m)\u001b[0m\u001b[0;34m)\u001b[0m\u001b[0;34m\u001b[0m\u001b[0;34m\u001b[0m\u001b[0m\n",
      "\u001b[0;32m~/Applications/anaconda3/envs/BBB/lib/python3.8/site-packages/numpy/linalg/linalg.py\u001b[0m in \u001b[0;36m_raise_linalgerror_singular\u001b[0;34m(err, flag)\u001b[0m\n\u001b[1;32m     95\u001b[0m \u001b[0;34m\u001b[0m\u001b[0m\n\u001b[1;32m     96\u001b[0m \u001b[0;32mdef\u001b[0m \u001b[0m_raise_linalgerror_singular\u001b[0m\u001b[0;34m(\u001b[0m\u001b[0merr\u001b[0m\u001b[0;34m,\u001b[0m \u001b[0mflag\u001b[0m\u001b[0;34m)\u001b[0m\u001b[0;34m:\u001b[0m\u001b[0;34m\u001b[0m\u001b[0;34m\u001b[0m\u001b[0m\n\u001b[0;32m---> 97\u001b[0;31m     \u001b[0;32mraise\u001b[0m \u001b[0mLinAlgError\u001b[0m\u001b[0;34m(\u001b[0m\u001b[0;34m\"Singular matrix\"\u001b[0m\u001b[0;34m)\u001b[0m\u001b[0;34m\u001b[0m\u001b[0;34m\u001b[0m\u001b[0m\n\u001b[0m\u001b[1;32m     98\u001b[0m \u001b[0;34m\u001b[0m\u001b[0m\n\u001b[1;32m     99\u001b[0m \u001b[0;32mdef\u001b[0m \u001b[0m_raise_linalgerror_nonposdef\u001b[0m\u001b[0;34m(\u001b[0m\u001b[0merr\u001b[0m\u001b[0;34m,\u001b[0m \u001b[0mflag\u001b[0m\u001b[0;34m)\u001b[0m\u001b[0;34m:\u001b[0m\u001b[0;34m\u001b[0m\u001b[0;34m\u001b[0m\u001b[0m\n",
      "\u001b[0;31mLinAlgError\u001b[0m: Singular matrix"
     ]
    }
   ],
   "source": [
    "A = G_approx.T @ G_approx\n",
    "B = G_approx.T @ s_obs_dims\n",
    "\n",
    "\n",
    "M = np.linalg.solve(A, B)\n",
    "# M = np.linalg.lstsq(A, B)[0]"
   ]
  },
  {
   "cell_type": "code",
   "execution_count": 18,
   "metadata": {},
   "outputs": [
    {
     "data": {
      "text/plain": [
       "(array([[ -3.89221117e-03],\n",
       "        [  9.99825018e-01],\n",
       "        [  0.00000000e+00],\n",
       "        [ -2.49636324e-03],\n",
       "        [  5.32801240e-10],\n",
       "        [ -3.38083863e-07]]),\n",
       " array([], dtype=float64),\n",
       " 5,\n",
       " array([  5.34029438e-17,   3.10546341e-17,   1.35596309e-17,\n",
       "          2.88856505e-18,   2.01394945e-18,   0.00000000e+00]))"
      ]
     },
     "execution_count": 18,
     "metadata": {},
     "output_type": "execute_result"
    }
   ],
   "source": [
    "M"
   ]
  },
  {
   "cell_type": "code",
   "execution_count": 50,
   "metadata": {
    "scrolled": false
   },
   "outputs": [
    {
     "data": {
      "text/plain": [
       "[<matplotlib.lines.Line2D at 0x7efc59c3b220>]"
      ]
     },
     "execution_count": 50,
     "metadata": {},
     "output_type": "execute_result"
    },
    {
     "data": {
      "image/png": "[encoded data removed]",
      "text/plain": [
       "<Figure size 1152x576 with 1 Axes>"
      ]
     },
     "metadata": {
      "needs_background": "light"
     },
     "output_type": "display_data"
    }
   ],
   "source": [
    "plt.figure(figsize=(16,8))\n",
    "\n",
    "# for i in range(6):\n",
    "plt.plot(G_approx[:,2])"
   ]
  },
  {
   "cell_type": "code",
   "execution_count": 67,
   "metadata": {},
   "outputs": [
    {
     "data": {
      "image/png": "[encoded data removed]",
      "text/plain": [
       "<Figure size 1152x576 with 1 Axes>"
      ]
     },
     "metadata": {
      "needs_background": "light"
     },
     "output_type": "display_data"
    }
   ],
   "source": [
    "st_file = \"/home/nienke/Documents/Research/SS_MTI/External_packages/Test_reflectivity/Exact_Gradient/Exact_5/\"\n",
    "st_syn = Gradient.read_refl_mseeds(path=st_file, stack=False)\n",
    "plt.figure(figsize=(16,8))\n",
    "\n",
    "for tr in st_syn:\n",
    "    plt.plot(tr.times(),tr.data)"
   ]
  },
  {
   "cell_type": "markdown",
   "metadata": {},
   "source": [
    "## 2. Invert the structure using approximate gradient"
   ]
  },
  {
   "cell_type": "code",
   "execution_count": null,
   "metadata": {},
   "outputs": [],
   "source": []
  }
 ],
 "metadata": {
  "kernelspec": {
   "display_name": "Python 3",
   "language": "python",
   "name": "python3"
  },
  "language_info": {
   "codemirror_mode": {
    "name": "ipython",
    "version": 3
   },
   "file_extension": ".py",
   "mimetype": "text/x-python",
   "name": "python",
   "nbconvert_exporter": "python",
   "pygments_lexer": "ipython3",
   "version": "3.8.3"
  }
 },
 "nbformat": 4,
 "nbformat_minor": 4
}
