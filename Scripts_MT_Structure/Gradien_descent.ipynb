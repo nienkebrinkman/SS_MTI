{
 "cells": [
  {
   "cell_type": "code",
   "execution_count": 23,
   "metadata": {},
   "outputs": [],
   "source": [
    "from os.path import join as pjoin\n",
    "from os import listdir as lsdir\n",
    "from obspy.geodetics import kilometer2degrees\n",
    "from obspy.taup import TauPyModel\n",
    "from SS_MTI import Gradient, PhaseTracer\n",
    "import Create_Vmod"
   ]
  },
  {
   "cell_type": "markdown",
   "metadata": {},
   "source": [
    "# Save directory"
   ]
  },
  {
   "cell_type": "code",
   "execution_count": 19,
   "metadata": {},
   "outputs": [],
   "source": [
    "save_path = \"/home/nienke/Documents/Research/SS_MTI/External_packages/Test_reflectivity/m0_gradient_descent/\""
   ]
  },
  {
   "cell_type": "markdown",
   "metadata": {},
   "source": [
    "# Fixed parameters"
   ]
  },
  {
   "cell_type": "code",
   "execution_count": 3,
   "metadata": {},
   "outputs": [],
   "source": [
    "bin_path = \"/home/nienke/Documents/Research/SS_MTI/External_packages/reflectivity_Mars/SRC/test/crfl_sac\"\n",
    "if not lsdir(save_path):\n",
    "    subprocess.call(f\"scp {bin_path} .\", shell=True, cwd=save_path)"
   ]
  },
  {
   "cell_type": "code",
   "execution_count": 16,
   "metadata": {},
   "outputs": [],
   "source": [
    "src_depth = 20.0\n",
    "epi_in_km = 1774.7380\n",
    "epi = kilometer2degrees(epi_in_km, radius=3389.5)\n",
    "baz = 0.\n",
    "\n",
    "dt = 0.025\n",
    "\n",
    "phases = [\"P\", \"S\", \"P\", \"S\", \"S\"]\n",
    "comps = [\"Z\", \"T\", \"R\", \"Z\", \"R\"]\n",
    "t_pres = [1, 1, 1, 1, 1]\n",
    "t_posts = [30, 30, 30, 30, 30]\n",
    "ylims = [1e-9, 1e-9, 2e-9, 3e-9, 2e-9]\n",
    "\n",
    "fmin = 0.2\n",
    "fmax = 0.6\n",
    "zerophase = False"
   ]
  },
  {
   "cell_type": "markdown",
   "metadata": {},
   "source": [
    "# Observed data"
   ]
  },
  {
   "cell_type": "code",
   "execution_count": 17,
   "metadata": {},
   "outputs": [],
   "source": [
    "path_observed = (\n",
    "    \"/home/nienke/Documents/Research/SS_MTI/External_packages/Test_reflectivity/obs/\"\n",
    ")\n",
    "npz_file = \"/home/nienke/Documents/Research/Data/npz_files/TAYAK.npz\"\n",
    "st_obs = Gradient.read_refl_mseeds(path=path_observed)\n",
    "Taup = TauPyModel(npz_file)\n",
    "obs_tts = [PhaseTracer.get_traveltime(Taup, phase, src_depth, epi) for phase in phases]\n",
    "st_obs_w, st_obs_full, s_obs = Gradient.window(\n",
    "    st_obs, phases, comps, obs_tts, t_pres, t_posts, fmin, fmax, zerophase,\n",
    ")"
   ]
  },
  {
   "cell_type": "markdown",
   "metadata": {},
   "source": [
    "# Start values"
   ]
  },
  {
   "cell_type": "code",
   "execution_count": null,
   "metadata": {},
   "outputs": [],
   "source": [
    "bm_start_model = \"/home/nienke/Documents/Research/Data/MTI/MT_vs_STR/bm_models/TAYAK.bm\"\n",
    "m_rr = 0.2\n",
    "m_tt = 0.8\n",
    "m_pp = 0.0\n",
    "m_rt = 0.0\n",
    "m_rp = 0.0\n",
    "m_tp = 0.0\n",
    "focal_mech = [m_rr, m_tt, m_pp, m_rt, m_rp, m_tp]\n",
    "Moho_d = 77.3680\n",
    "\n",
    "Create_Vmod.create_dat_file(\n",
    "    src_depth, focal_mech, epi_in_km, baz, dt, save_path, bm_start_model,\n",
    ")"
   ]
  },
  {
   "cell_type": "code",
   "execution_count": null,
   "metadata": {},
   "outputs": [],
   "source": [
    "m0 = np.hstack((focal_mech,Moho_d))"
   ]
  },
  {
   "cell_type": "markdown",
   "metadata": {},
   "source": [
    "# Line search"
   ]
  },
  {
   "cell_type": "code",
   "execution_count": null,
   "metadata": {},
   "outputs": [],
   "source": [
    "src_str = _Gradient.SRC_STR(\n",
    "    binary_file_path=bin_path,\n",
    "    path_to_dat=save_path,\n",
    "    phases=phases,\n",
    "    components=comps,\n",
    "    t_pres=t_pres,\n",
    "    t_posts=t_posts,\n",
    "    depth=True,\n",
    "    vpvs=False,\n",
    "    fmin=fmin,\n",
    "    fmax=fmax,\n",
    "    dt=dt,\n",
    "    baz=baz,\n",
    "    sigmas=sigmas,\n",
    "    zerophase=zerophase,\n",
    "    plot=True,\n",
    "    st_obs_full=st_obs_full,\n",
    "    tt_obs=obs_tts,\n",
    "    ylims=ylims,\n",
    ")"
   ]
  }
 ],
 "metadata": {
  "kernelspec": {
   "display_name": "Python 3",
   "language": "python",
   "name": "python3"
  },
  "language_info": {
   "codemirror_mode": {
    "name": "ipython",
    "version": 3
   },
   "file_extension": ".py",
   "mimetype": "text/x-python",
   "name": "python",
   "nbconvert_exporter": "python",
   "pygments_lexer": "ipython3",
   "version": "3.8.3"
  }
 },
 "nbformat": 4,
 "nbformat_minor": 4
}
