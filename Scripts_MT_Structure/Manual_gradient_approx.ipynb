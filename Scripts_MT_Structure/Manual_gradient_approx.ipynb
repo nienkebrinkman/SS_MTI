{
 "cells": [
  {
   "cell_type": "markdown",
   "metadata": {},
   "source": [
    "## Intro\n",
    "In this notebook, we are going to analyse the seismogram outputs for varying moment tensor/structure with respect to each model parameter (mxx,myy,mzz,mxy,mxz,myz,moho-d). By doing this, we can obtain the sensitivity of the seismograms to each of the parameters."
   ]
  },
  {
   "cell_type": "code",
   "execution_count": 17,
   "metadata": {},
   "outputs": [],
   "source": [
    "from obspy.taup import TauPyModel\n",
    "from os.path import join,isfile\n",
    "from os import listdir\n",
    "from obspy.geodetics import kilometer2degrees\n",
    "from SS_MTI import Gradient, PhaseTracer"
   ]
  },
  {
   "cell_type": "markdown",
   "metadata": {},
   "source": [
    "## Fixed parameters from inversion"
   ]
  },
  {
   "cell_type": "code",
   "execution_count": 10,
   "metadata": {},
   "outputs": [],
   "source": [
    "src_depth = 20.0\n",
    "epi_in_km = 1774.7380\n",
    "epi = kilometer2degrees(epi_in_km, radius=3389.5)\n",
    "baz = 0.0\n",
    "\n",
    "dt = 0.025\n",
    "\n",
    "phases = [\"P\", \"S\", \"P\", \"S\", \"S\"]\n",
    "comps = [\"Z\", \"T\", \"R\", \"Z\", \"R\"]\n",
    "t_pres = [1, 1, 1, 1, 1]\n",
    "t_posts = [30, 30, 30, 30, 30]\n",
    "ylims = [1e-9, 1e-9, 2e-9, 3e-9, 2e-9]\n",
    "\n",
    "fmin = 0.2\n",
    "fmax = 0.6\n",
    "zerophase = False"
   ]
  },
  {
   "cell_type": "markdown",
   "metadata": {},
   "source": [
    "## Epsilon\n",
    "We will look at an example, where the steps in each model parameter direction is done with an epsilon of 0.01"
   ]
  },
  {
   "cell_type": "code",
   "execution_count": 11,
   "metadata": {},
   "outputs": [],
   "source": [
    "epsilon = 0.01"
   ]
  },
  {
   "cell_type": "markdown",
   "metadata": {},
   "source": [
    "## Start model\n",
    "First, we load the seismograms from our initial model (m0 = [m_rr, m_tt, m_pp, m_rt, m_rp, m_tp, moho-d])"
   ]
  },
  {
   "cell_type": "code",
   "execution_count": 13,
   "metadata": {},
   "outputs": [
    {
     "data": {
      "text/plain": [
       "['77.368.npz']"
      ]
     },
     "execution_count": 13,
     "metadata": {},
     "output_type": "execute_result"
    }
   ],
   "source": [
    "npz_file"
   ]
  },
  {
   "cell_type": "code",
   "execution_count": 14,
   "metadata": {},
   "outputs": [],
   "source": [
    "m0_path = \"/home/nienke/Documents/Research/SS_MTI/External_packages/Test_reflectivity/m0_gradient_descent/Update_1/It_0\"\n",
    "st_m0 = Gradient.read_refl_mseeds(path=m0_path)\n",
    "# window the data:\n",
    "npz_file = [f for f in listdir(m0_path) if f.endswith(\".npz\") if isfile(join(m0_path, f))]\n",
    "Taup = TauPyModel(join(m0_path,npz_file[0]))\n",
    "m0_tts = [PhaseTracer.get_traveltime(Taup, phase, src_depth, epi) for phase in phases]\n",
    "st_m0_w, st_m0_full, s_m0 = Gradient.window(\n",
    "    st_m0,\n",
    "    phases,\n",
    "    comps,\n",
    "    m0_tts,\n",
    "    t_pres,\n",
    "    t_posts,\n",
    "    fmin,\n",
    "    fmax,\n",
    "    zerophase,\n",
    ")"
   ]
  },
  {
   "cell_type": "markdown",
   "metadata": {},
   "source": [
    "## Update history\n",
    "Here, we have the update history when we use epsilon of 0.01. Observe that 7 forward runs are necessary to find the gradient w.r.t the entire model. Now we can now visualize the effect of each update on the waveforms, so for example we can analyse if an update in mxx relates to only amplitude changes and the change in moho only in phase shifts, or is it may be sensible to various changes at the same time?\n",
    "\n",
    "-- Update History --\n",
    "\n",
    "$m0$: [0.2,0.8,0.,0.,0.,0.,77.368]\n",
    "\n",
    "1.$m0 + \\epsilon  m_{rr}$: [0.20166667,0.8,0.,0.,0.,0.,77.368] -- \n",
    "forward run in iteration: 91 --\n",
    "misfit = 1037.16085968 \n",
    "\n",
    "2.$m0 + \\epsilon  m_{tt}$: [0.2,0.80166667,0.,0.,0.,0.,77.368] --\n",
    "forward run in iteration: 92 --\n",
    "misfit = 1041.56079792 \n",
    "\n",
    "3.$m0 + \\epsilon  m_{pp}$: [0.2,0.8,1.66666667e-03,0.,0.,0.,77.368] --\n",
    "forward run in iteration: 93 --\n",
    "misfit = 1041.66531012\n",
    "\n",
    "4.$m0 + \\epsilon  m_{rt}$: [0.2,0.8,0.,1.66666667e-03,0.,0.,77.368] --\n",
    "forward run in iteration: 94 --\n",
    "misfit = 1037.16085968\n",
    "\n",
    "5.$m0 + \\epsilon  m_{rp}$: [0.2,0.8,0.,0.,1.66666667e-03,0.,77.368] --\n",
    "forward run in iteration: 95 --\n",
    "misfit = 1041.15464715\n",
    "\n",
    "6.$m0 + \\epsilon  m_{tp}$: [0.2,0.8,0.,0.,0.,1.66666667e-03 ,77.368] --\n",
    "forward run in iteration: 96 --\n",
    "misfit = 1042.42410446\n",
    "\n",
    "7.$m0 + \\epsilon  m_{moho-d}$: [0.2,0.8,0.,0.,0.,0.,78.14168] --\n",
    "forward run in iteration: 97 --\n",
    "misfit = 1360.46697213\n"
   ]
  },
  {
   "cell_type": "markdown",
   "metadata": {},
   "source": [
    "## 1. $m0 + \\epsilon  m_{rr}$"
   ]
  },
  {
   "cell_type": "markdown",
   "metadata": {},
   "source": [
    "First, we load the data that belongs to this update"
   ]
  },
  {
   "cell_type": "code",
   "execution_count": 15,
   "metadata": {},
   "outputs": [],
   "source": [
    "m1_path = \"/home/nienke/Documents/Research/SS_MTI/External_packages/Test_reflectivity/m0_gradient_descent/Update_1/It_91\"\n",
    "st_m1 = Gradient.read_refl_mseeds(path=m1_path)\n",
    "# window the data:\n",
    "npz_file = [f for f in listdir(m1_path) if f.endswith(\".npz\") if isfile(join(m1_path, f))]\n",
    "Taup = TauPyModel(join(m1_path,npz_file[0]))\n",
    "m1_tts = [PhaseTracer.get_traveltime(Taup, phase, src_depth, epi) for phase in phases]\n",
    "st_m1_w, st_m1_full, s_m1 = Gradient.window(\n",
    "    st_m1,\n",
    "    phases,\n",
    "    comps,\n",
    "    m1_tts,\n",
    "    t_pres,\n",
    "    t_posts,\n",
    "    fmin,\n",
    "    fmax,\n",
    "    zerophase,\n",
    ")"
   ]
  },
  {
   "cell_type": "markdown",
   "metadata": {},
   "source": [
    "Then, we would like to calculate the residual between the two seismograms ($m0$ and $m0 + \\epsilon  m_{rr}$)"
   ]
  },
  {
   "cell_type": "code",
   "execution_count": 22,
   "metadata": {},
   "outputs": [],
   "source": [
    "st_res1 = st_m0_w.copy()\n",
    "for i, (tr_m0, tr_m1) in enumerate(zip(st_m0_w,st_m1_w)):\n",
    "    res_data = tr_m0.data - tr_m1.data\n",
    "    st_res1[i].data = res_data\n"
   ]
  },
  {
   "cell_type": "code",
   "execution_count": null,
   "metadata": {},
   "outputs": [],
   "source": []
  }
 ],
 "metadata": {
  "kernelspec": {
   "display_name": "Python 3",
   "language": "python",
   "name": "python3"
  },
  "language_info": {
   "codemirror_mode": {
    "name": "ipython",
    "version": 3
   },
   "file_extension": ".py",
   "mimetype": "text/x-python",
   "name": "python",
   "nbconvert_exporter": "python",
   "pygments_lexer": "ipython3",
   "version": "3.8.3"
  }
 },
 "nbformat": 4,
 "nbformat_minor": 4
}
